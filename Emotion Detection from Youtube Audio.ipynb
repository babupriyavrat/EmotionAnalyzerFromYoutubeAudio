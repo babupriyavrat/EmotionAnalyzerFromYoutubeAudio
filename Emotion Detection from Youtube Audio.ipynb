{
 "cells": [
  {
   "cell_type": "code",
   "execution_count": 1,
   "metadata": {},
   "outputs": [],
   "source": [
    "from __future__ import print_function"
   ]
  },
  {
   "cell_type": "code",
   "execution_count": 11,
   "metadata": {
    "scrolled": true
   },
   "outputs": [
    {
     "name": "stdout",
     "output_type": "stream",
     "text": [
      "[youtube] GLkT2D91YUM: Downloading webpage\n",
      "[youtube] GLkT2D91YUM: Downloading video info webpage\n",
      "[download] Destination: Brazil World Cup Final 2014 - Germany vs Argentina - 2nd Half (Full HD)-GLkT2D91YUM.m4a\n",
      "[download] 100% of 140.94MiB in 00:1740MiB/s ETA 00:008\n",
      "[ffmpeg] Correcting container in \"Brazil World Cup Final 2014 - Germany vs Argentina - 2nd Half (Full HD)-GLkT2D91YUM.m4a\"\n",
      "[ffmpeg] Destination: Brazil World Cup Final 2014 - Germany vs Argentina - 2nd Half (Full HD)-GLkT2D91YUM.wav\n",
      "Deleting original file Brazil World Cup Final 2014 - Germany vs Argentina - 2nd Half (Full HD)-GLkT2D91YUM.m4a (pass -k to keep)\n"
     ]
    }
   ],
   "source": [
    "#downloading youtube audio\n",
    "from __future__ import unicode_literals\n",
    "import youtube_dl\n",
    "\n",
    "\n",
    "ydl_opts = {\n",
    "    'format': 'bestaudio/best',\n",
    "    'postprocessors': [{\n",
    "        'key': 'FFmpegExtractAudio',\n",
    "        'preferredcodec': 'wav',\n",
    "        'preferredquality': '192',\n",
    "    }],\n",
    "}\n",
    "\n",
    "with youtube_dl.YoutubeDL(ydl_opts) as ydl:\n",
    "    ydl.download(['https://www.youtube.com/watch?v=GLkT2D91YUM'])"
   ]
  },
  {
   "cell_type": "code",
   "execution_count": 24,
   "metadata": {},
   "outputs": [],
   "source": [
    "import librosa\n",
    "import librosa.display\n",
    "import numpy as np\n",
    "import matplotlib.pyplot as plt\n",
    "%matplotlib inline\n",
    "from IPython.display import Audio\n",
    "import numpy as np\n",
    "from pyAudioAnalysis import audioTrainTest as aT\n"
   ]
  },
  {
   "cell_type": "code",
   "execution_count": 25,
   "metadata": {},
   "outputs": [],
   "source": [
    "def load_audio_slice(file_name,offset_in_sec,period_in_sec):\n",
    "    y, sr = librosa.load(file_name,  \n",
    "                       duration=period_in_sec,offset=offset_in_sec)\n",
    "    return y,sr\n",
    "\n"
   ]
  },
  {
   "cell_type": "code",
   "execution_count": 26,
   "metadata": {},
   "outputs": [],
   "source": [
    "def computeAbsMagandPhase(y,sr):\n",
    "    # And compute the spectrogram magnitude and phase\n",
    "    S_full, phase = librosa.magphase(librosa.stft(y))\n",
    "    S=np.abs(librosa.stft(y))\n",
    "    \n",
    "    return S,S_full,phase"
   ]
  },
  {
   "cell_type": "code",
   "execution_count": 27,
   "metadata": {
    "scrolled": true
   },
   "outputs": [],
   "source": [
    "def SeparateVoiceAndBackground(S_full,phase,sr):\n",
    "    ###########################################################\n",
    "    # The wiggly lines above are due to the vocal component.\n",
    "    # Our goal is to separate them from the accompanying\n",
    "    # instrumentation.\n",
    "    #\n",
    "\n",
    "    # We'll compare frames using cosine similarity, and aggregate similar frames\n",
    "    # by taking their (per-frequency) median value.\n",
    "    #\n",
    "    # To avoid being biased by local continuity, we constrain similar frames to be\n",
    "    # separated by at least 2 seconds.\n",
    "    #\n",
    "    # This suppresses sparse/non-repetetitive deviations from the average spectrum,\n",
    "    # and works well to discard vocal elements.\n",
    "    S_filter = librosa.decompose.nn_filter(S_full,\n",
    "                                       aggregate=np.median,\n",
    "                                       metric='cosine',\n",
    "                                       width=int(librosa.time_to_frames(2, sr=sr)))\n",
    "    # The output of the filter shouldn't be greater than the input\n",
    "    # if we assume signals are additive.  Taking the pointwise minimium\n",
    "    # with the input spectrum forces this.\n",
    "    S_filter = np.minimum(S_full, S_filter)\n",
    "    ##############################################\n",
    "    # The raw filter output can be used as a mask,\n",
    "    # but it sounds better if we use soft-masking.\n",
    "\n",
    "    # We can also use a margin to reduce bleed between the vocals and instrumentation masks.\n",
    "    # Note: the margins need not be equal for foreground and background separation\n",
    "    margin_i, margin_v = 2, 10\n",
    "    power = 2\n",
    "\n",
    "    mask_i = librosa.util.softmask(S_filter,\n",
    "                               margin_i * (S_full - S_filter),\n",
    "                               power=power)\n",
    "\n",
    "    mask_v = librosa.util.softmask(S_full - S_filter,\n",
    "                               margin_v * S_filter,\n",
    "                               power=power)\n",
    "\n",
    "    # Once we have the masks, simply multiply them with the input spectrum\n",
    "    # to separate the components\n",
    "\n",
    "    S_foreground = mask_v * S_full\n",
    "    S_background = mask_i * S_full\n",
    "    return S_foreground, S_background\n"
   ]
  },
  {
   "cell_type": "code",
   "execution_count": 28,
   "metadata": {},
   "outputs": [],
   "source": [
    "def audio_convertor(input_file,chunk_number,file_type,S_Type,phase,sr):\n",
    "    librosa.output.write_wav(str(input_file)+\"_\"+str(chunk_number)+\"_\"+str(file_type)+\".wav\", librosa.istft(S_Type* phase), sr)\n",
    "    "
   ]
  },
  {
   "cell_type": "code",
   "execution_count": 49,
   "metadata": {},
   "outputs": [],
   "source": [
    "import csv\n",
    "def EmotionAnalyzerSVM(slice_audio_dir,model_path,file_name,interval):\n",
    "    y, sr = librosa.load(file_name+\".wav\")\n",
    "    duration= librosa.get_duration(y=y, sr=sr)\n",
    "    print(\"The duration of the file :\"+file_name+ \" is \"+str(duration))\n",
    "\n",
    "    with open('emotional_analysis_data.csv','w') as outfile: \n",
    "        columns=[\"from\",\"to\",\"next_offset\",\"Full_Arousal\",\"Full_Valence\",\"Foreground_Arousal\",\"Foreground_Valence\",\"Background_Arousal\",\"Background_Valence\"]\n",
    "        w = csv.DictWriter(outfile,fieldnames=columns)\n",
    "        w.writeheader()\n",
    "        for i in range(0,int(duration),interval/2):\n",
    "            #print(\"creating audio slice from \"+ str(i)+ \" sec to \" +str(i+interval)+ \" sec\")\n",
    "            y, sr=load_audio_slice(file_name+\".wav\",i,interval)\n",
    "            S,S_full,phase=computeAbsMagandPhase(y,sr)\n",
    "            S_foreground,S_background=SeparateVoiceAndBackground(S_full,phase,sr)\n",
    "            from_duration=i\n",
    "            to_duration=interval+i\n",
    "            next_offset=i+interval/2\n",
    "            chunk=str(from_duration)+\"to\"+str(to_duration)+\"sec\"\n",
    "            #print(\"saving full spectrum audio wave file\")\n",
    "            audio_convertor(file_name[0:15],chunk,\"S_full\",S_full,phase,sr)\n",
    "            audio_convertor(file_name[0:15],chunk,\"S_foreground\",S_foreground,phase,sr)\n",
    "            audio_convertor(file_name[0:15],chunk,\"S_background\",S_background,phase,sr)\n",
    "            outfile.write(str(from_duration)+','\n",
    "                              +str(to_duration)+','\n",
    "                              +str(next_offset)+',')\n",
    "            try:\n",
    "                sentiment=aT.fileRegression(slice_audio_dir+file_name[0:15]+\"_\"+chunk+\"_\"+\"S_full\"+\".wav\",model_path, \"svm\")[0]\n",
    "                #print(\"sentiment for Full Spectrum\"+chunk+\"- Arousal:\"+sentiment[0]+\"; Valence:\"+sentiment[1] )\n",
    "                outfile.write(str(sentiment[0])+','\n",
    "                              +str(sentiment[1])+',')\n",
    "            except TypeError:\n",
    "                pass\n",
    "            try:\n",
    "                sentiment2=aT.fileRegression(slice_audio_dir+file_name[0:15]+\"_\"+chunk+\"_\"+\"S_foreground\"+\".wav\", model_path, \"svm\")[0]\n",
    "                #print(\"sentiment for Foreground\"+chunk+\"- Arousal:\"+sentiment2[0]+\"; Valence:\"+sentiment2[1] )\n",
    "                outfile.write(\n",
    "                             str(sentiment2[0])+','\n",
    "                              +str(sentiment2[1])+',')\n",
    "            except TypeError:\n",
    "                pass\n",
    "            try:\n",
    "                sentiment3=aT.fileRegression(slice_audio_dir+file_name[0:15]+\"_\"+chunk+\"_\"+\"S_background\"+\".wav\", model_path, \"svm\")[0]\n",
    "                #print(\"sentiment for background\"+chunk+\"- Arousal:\"+sentiment3[0]+\"; Valence:\"+sentiment3[1] )\n",
    "                outfile.write(\n",
    "                             str(sentiment3[0])+','\n",
    "                             +str(sentiment3[1]))\n",
    "            except TypeError:\n",
    "                pass\n",
    "            \n",
    "            outfile.write(\"\\n\")\n",
    "        "
   ]
  },
  {
   "cell_type": "code",
   "execution_count": 50,
   "metadata": {},
   "outputs": [
    {
     "name": "stdout",
     "output_type": "stream",
     "text": [
      "The duration of the file :Brazil World Cup Final 2014 - Germany vs Argentina - 2nd Half (Full HD)-GLkT2D91YUM is 3069.20535147\n"
     ]
    }
   ],
   "source": [
    "youtube_audio_title=\"Brazil World Cup Final 2014 - Germany vs Argentina - 2nd Half (Full HD)-GLkT2D91YUM\"\n",
    "slice_audio_dir=\"/Users/babu/Emotion Analytics/\"\n",
    "model_path=\"/Users/babu/pyAudioAnalysis/data/svmSpeechEmotion\"\n",
    "emotion_analyzer_interval=10\n",
    "EmotionAnalyzerSVM(str(slice_audio_dir),str(model_path),str(youtube_audio_title),emotion_analyzer_interval)"
   ]
  },
  {
   "cell_type": "code",
   "execution_count": null,
   "metadata": {},
   "outputs": [],
   "source": []
  }
 ],
 "metadata": {
  "kernelspec": {
   "display_name": "Python 2",
   "language": "python",
   "name": "python2"
  },
  "language_info": {
   "codemirror_mode": {
    "name": "ipython",
    "version": 2
   },
   "file_extension": ".py",
   "mimetype": "text/x-python",
   "name": "python",
   "nbconvert_exporter": "python",
   "pygments_lexer": "ipython2",
   "version": "2.7.14"
  }
 },
 "nbformat": 4,
 "nbformat_minor": 2
}
